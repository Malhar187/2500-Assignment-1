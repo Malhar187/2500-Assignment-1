{
  "nbformat": 4,
  "nbformat_minor": 0,
  "metadata": {
    "colab": {
      "provenance": []
    },
    "kernelspec": {
      "name": "python3",
      "display_name": "Python 3"
    },
    "language_info": {
      "name": "python"
    }
  },
  "cells": [
    {
      "cell_type": "code",
      "execution_count": 1,
      "metadata": {
        "id": "zudd2I5B_W3q"
      },
      "outputs": [],
      "source": [
        "import numpy as np\n",
        "import pandas as pd\n",
        "import matplotlib.pyplot as plt\n",
        "from sklearn.ensemble import RandomForestRegressor"
      ]
    },
    {
      "cell_type": "code",
      "source": [
        "# Reading the dataset file:\n",
        "df = pd.read_csv('data_2024_dontation.csv')\n",
        "# Setting the option to display 100 rows:\n",
        "pd.set_option('display.max_rows', 100)"
      ],
      "metadata": {
        "id": "h0r2Egki_a6J"
      },
      "execution_count": 2,
      "outputs": []
    },
    {
      "cell_type": "code",
      "source": [
        "df.shape"
      ],
      "metadata": {
        "colab": {
          "base_uri": "https://localhost:8080/"
        },
        "id": "53dqx4IY_uqk",
        "outputId": "9f428f6c-fddc-4ab9-dc52-36db958a18a8"
      },
      "execution_count": 3,
      "outputs": [
        {
          "output_type": "execute_result",
          "data": {
            "text/plain": [
              "(448, 9)"
            ]
          },
          "metadata": {},
          "execution_count": 3
        }
      ]
    },
    {
      "cell_type": "code",
      "source": [
        "print(df.info())"
      ],
      "metadata": {
        "colab": {
          "base_uri": "https://localhost:8080/"
        },
        "id": "Mu8swDhfBMxW",
        "outputId": "0448beea-3711-4e04-c7e8-e6e0638e7f88"
      },
      "execution_count": 4,
      "outputs": [
        {
          "output_type": "stream",
          "name": "stdout",
          "text": [
            "<class 'pandas.core.frame.DataFrame'>\n",
            "RangeIndex: 448 entries, 0 to 447\n",
            "Data columns (total 9 columns):\n",
            " #   Column                                                 Non-Null Count  Dtype \n",
            "---  ------                                                 --------------  ----- \n",
            " 0   Drop Off Location                                      448 non-null    object\n",
            " 1   Stake                                                  448 non-null    object\n",
            " 2   Route Number/Name                                      448 non-null    object\n",
            " 3   Time Spent Collecting Donations                        448 non-null    object\n",
            " 4   # of Adult Volunteers who participated in this route   448 non-null    int64 \n",
            " 5   # of Youth Volunteers who participated in this route\n",
            "  448 non-null    int64 \n",
            " 6   # of Doors in Route                                    448 non-null    int64 \n",
            " 7   # of Donation Bags Collected                           448 non-null    int64 \n",
            " 8   total number of volunteers                             448 non-null    int64 \n",
            "dtypes: int64(5), object(4)\n",
            "memory usage: 31.6+ KB\n",
            "None\n"
          ]
        }
      ]
    },
    {
      "cell_type": "code",
      "source": [
        "df.duplicated().sum()"
      ],
      "metadata": {
        "colab": {
          "base_uri": "https://localhost:8080/"
        },
        "id": "DEWCMhdKBPhK",
        "outputId": "7aea7223-59bd-4bdf-e24d-d9404a4d85b0"
      },
      "execution_count": 5,
      "outputs": [
        {
          "output_type": "execute_result",
          "data": {
            "text/plain": [
              "2"
            ]
          },
          "metadata": {},
          "execution_count": 5
        }
      ]
    },
    {
      "cell_type": "code",
      "source": [
        "df.isnull().sum()"
      ],
      "metadata": {
        "colab": {
          "base_uri": "https://localhost:8080/",
          "height": 362
        },
        "id": "zNNTHb4dO0he",
        "outputId": "a1fdaf34-64f5-4f6d-8876-6075766dce6e"
      },
      "execution_count": 6,
      "outputs": [
        {
          "output_type": "execute_result",
          "data": {
            "text/plain": [
              "Drop Off Location                                         0\n",
              "Stake                                                     0\n",
              "Route Number/Name                                         0\n",
              "Time Spent Collecting Donations                           0\n",
              "# of Adult Volunteers who participated in this route      0\n",
              "# of Youth Volunteers who participated in this route\\n    0\n",
              "# of Doors in Route                                       0\n",
              "# of Donation Bags Collected                              0\n",
              "total number of volunteers                                0\n",
              "dtype: int64"
            ],
            "text/html": [
              "<div>\n",
              "<style scoped>\n",
              "    .dataframe tbody tr th:only-of-type {\n",
              "        vertical-align: middle;\n",
              "    }\n",
              "\n",
              "    .dataframe tbody tr th {\n",
              "        vertical-align: top;\n",
              "    }\n",
              "\n",
              "    .dataframe thead th {\n",
              "        text-align: right;\n",
              "    }\n",
              "</style>\n",
              "<table border=\"1\" class=\"dataframe\">\n",
              "  <thead>\n",
              "    <tr style=\"text-align: right;\">\n",
              "      <th></th>\n",
              "      <th>0</th>\n",
              "    </tr>\n",
              "  </thead>\n",
              "  <tbody>\n",
              "    <tr>\n",
              "      <th>Drop Off Location</th>\n",
              "      <td>0</td>\n",
              "    </tr>\n",
              "    <tr>\n",
              "      <th>Stake</th>\n",
              "      <td>0</td>\n",
              "    </tr>\n",
              "    <tr>\n",
              "      <th>Route Number/Name</th>\n",
              "      <td>0</td>\n",
              "    </tr>\n",
              "    <tr>\n",
              "      <th>Time Spent Collecting Donations</th>\n",
              "      <td>0</td>\n",
              "    </tr>\n",
              "    <tr>\n",
              "      <th># of Adult Volunteers who participated in this route</th>\n",
              "      <td>0</td>\n",
              "    </tr>\n",
              "    <tr>\n",
              "      <th># of Youth Volunteers who participated in this route\\n</th>\n",
              "      <td>0</td>\n",
              "    </tr>\n",
              "    <tr>\n",
              "      <th># of Doors in Route</th>\n",
              "      <td>0</td>\n",
              "    </tr>\n",
              "    <tr>\n",
              "      <th># of Donation Bags Collected</th>\n",
              "      <td>0</td>\n",
              "    </tr>\n",
              "    <tr>\n",
              "      <th>total number of volunteers</th>\n",
              "      <td>0</td>\n",
              "    </tr>\n",
              "  </tbody>\n",
              "</table>\n",
              "</div><br><label><b>dtype:</b> int64</label>"
            ]
          },
          "metadata": {},
          "execution_count": 6
        }
      ]
    },
    {
      "cell_type": "code",
      "source": [
        "df['Route Number/Name'].unique()\n"
      ],
      "metadata": {
        "colab": {
          "base_uri": "https://localhost:8080/"
        },
        "id": "ynyYK7j9E4Ll",
        "outputId": "23768eab-788b-4511-f7cd-68385be168cf"
      },
      "execution_count": 7,
      "outputs": [
        {
          "output_type": "execute_result",
          "data": {
            "text/plain": [
              "array(['676', '0', 'Unassigned', '50', '98', '6', '19', '7',\n",
              "       'Meyokumin 25 ', '32', 'Route 1', '2', '1', 'Strathearn North',\n",
              "       '64', '21', '10', '28/konietz', '58', '18', 'Caernarvon A', '30',\n",
              "       'Ritchie 4', 'Mill Creek 2', 'Fulton Place #1B', 'Sloan', '37',\n",
              "       '13', '169', '9', '3-3-1a', '3', '46', '49th street',\n",
              "       'Laurel Park', 'Terrace Heights #3 (Poll 66)', '25', 'Ritchie 2',\n",
              "       '16', '33', '8', '42', '5 2.2', '182', '54', 'Goldbar 5', '11',\n",
              "       '4-3.2', '5', '4-1.1 ', 'Calder C', '63', '36', '73', '134',\n",
              "       'Ottwell #3 (poll 48)', '22', '74',\n",
              "       'Royal Gardens # / Gavin Speidwl', '113A, 133 street 131 ave',\n",
              "       '52 and 52', '41', 'Poll 47 ', 'AG1', '56', '86/laurel', '66',\n",
              "       'Forest height #4 (poll 68)', 'Hudson c', '23', '197/210', '24',\n",
              "       '125', '123', '12', 'Howard Biggs', '3-2.4b', '15', 'Strathcona',\n",
              "       'Gurney', '19,23', 'Cumberland E', '162 , 170', '62, 48, 61', '17',\n",
              "       '52', '2-1.1', 'Not specified ', 'Strathcona 2 134 housew',\n",
              "       '69/71', '201', '4', 'Forest Heights #7 (poll 71) A', '26', '51',\n",
              "       '110', 'Carlisle B', '141', '29', 'Fulton Place #4 (poll 74)',\n",
              "       '3-1.2.b', 'Ekota 13 ', '47', '49', '43', '209,200,220',\n",
              "       'O rRNA A  and ozerna B', '31', '106', '56 Daly Grove', 'M1', '39',\n",
              "       'Bonnie Doon 3 ', 'Wellington C', 'Royal gardens. 3',\n",
              "       'King Edward Park 3', '162', 'Capilano #1', '101', 'Brookside 3',\n",
              "       'Fulton place #3 (poll 73)', '27', '212', 'D4', '1&2',\n",
              "       'Fulton Place #2 poll 64', 'Griesbach a and b', '154', '#8', '129',\n",
              "       '7 Herb madlung', '55', 'Ritchie 1 ', '20', 'Butchike',\n",
              "       'Ottewell 7', 'Evansdale f ', 'Sweetgrass 2', 'Ld2',\n",
              "       '32/Todd Coleman', '60', '199', 'Stewarts', '68', '65', 'LD1',\n",
              "       '160', '31/lee ridge', '197', 'Caernarvon C', 'lymburn 5 ', '184',\n",
              "       '90 street sw', '18,19', '70', 'goldbar 1', 'Brookside 1',\n",
              "       'Caernarvon B', 'Ag2', '128', 'Ottewell 8', '3-1.1a', '44', '45',\n",
              "       '5,8', '205', '138', '3-2.2B', 'Ld7', 'Terwiliger park', '38',\n",
              "       'Carlisle C', '43 - ramsay heights', '28', 'Satoo/route #s 3 & 5',\n",
              "       '40', '135', 'Carlisle A, Carlisle B', '126', 'Greenfield #5',\n",
              "       '8 and 11', '79/194bags', '30, 28, 43', 'Unkown',\n",
              "       'grey stone manor', '43 and 44', 'Blue quill estate 2', '120',\n",
              "       '6-2.1 197', 'Sweet grass 3', '77', '14', 'Ottewell 1',\n",
              "       'Greenfield #1', 'Ottewell 5', '75', 'Avonmore 1',\n",
              "       'King Edward Park 1', 'Wellington ABCD', '65, 67, 68', 'BQ5',\n",
              "       'Dovercourt C', 'Greenfield 6', '35', 'Poll 81', 'Blue quill1',\n",
              "       '67', '76', '5.6', '26/27', 'Stacey Williams ', 'Blue quill 3',\n",
              "       '34', '5-1.2', 'Caernarvon D', '2-3.1', 'Lori lie D', '121',\n",
              "       'Brayden Gregson', 'Westbrook', '9. C 283', '72', '81', '59',\n",
              "       'I dont remember', 'Belle Rive B C D E F ', 'Sweetgrass 1',\n",
              "       '28 Lee ridge', '57', 'Sherbrooke D', 'Sherbrooke B',\n",
              "       'Caernarvon E', 'Wellington EF', '2-2.4', '98 & 101 Av', 'Argyl 2',\n",
              "       'Ottowell 3', '76 Av - 96th',\n",
              "       '101 St - 84 Av - 97 St - 85 Av - 99 St', 'Riverdale 2', 'AD5',\n",
              "       'Strathcona 7', 'Ogilvie Ridge both routes', 'Route 4',\n",
              "       '71 Twin Brooks', 'Midbo', '69 Twin Brooks', 'Henderson states #2',\n",
              "       'Royal Gardens #4', 'Aspen gardens ', 'Greenfield 7',\n",
              "       'King Edward Park 4', 'Greenfield 3'], dtype=object)"
            ]
          },
          "metadata": {},
          "execution_count": 7
        }
      ]
    },
    {
      "cell_type": "code",
      "source": [
        "df['Stake'].unique()"
      ],
      "metadata": {
        "colab": {
          "base_uri": "https://localhost:8080/"
        },
        "id": "HWOVZpb3IApQ",
        "outputId": "629cb557-4716-451c-e87a-42310b86259e"
      },
      "execution_count": 8,
      "outputs": [
        {
          "output_type": "execute_result",
          "data": {
            "text/plain": [
              "array(['Riverbend Stake', 'Gateway Stake', 'Bonnie Doon Stake',\n",
              "       'Edmonton North Stake', 'YSA Stake'], dtype=object)"
            ]
          },
          "metadata": {},
          "execution_count": 8
        }
      ]
    },
    {
      "source": [
        "def generate_route_names(df):\n",
        "    \"\"\"Generates new route names based on stakes.\"\"\"\n",
        "    route_counters = {}  # Store counters for each stake\n",
        "    new_route_names = []\n",
        "\n",
        "    for index, row in df.iterrows():\n",
        "        stake = row['Stake']\n",
        "        if stake not in route_counters:\n",
        "            route_counters[stake] = 1  # Initialize counter for new stake\n",
        "        else:\n",
        "            route_counters[stake] += 1  # Increment counter for existing stake\n",
        "\n",
        "        new_route_names.append(f\"{stake} {route_counters[stake]}\")  # Create new route name\n",
        "\n",
        "    df['New Route Number/Name'] = new_route_names  # Add new column to DataFrame\n",
        "    return df\n",
        "\n",
        "# Apply the function to generate new route names\n",
        "df = generate_route_names(df)\n",
        "\n",
        "# Print the updated DataFrame (optional)\n",
        "print(df)"
      ],
      "cell_type": "code",
      "metadata": {
        "colab": {
          "base_uri": "https://localhost:8080/"
        },
        "id": "rddm4GpJLjMC",
        "outputId": "7834cb2d-7c55-47d2-a5cf-156110015e56"
      },
      "execution_count": 9,
      "outputs": [
        {
          "output_type": "stream",
          "name": "stdout",
          "text": [
            "            Drop Off Location              Stake   Route Number/Name  \\\n",
            "0             Bearspaw Chapel    Riverbend Stake                 676   \n",
            "1             Bearspaw Chapel      Gateway Stake                   0   \n",
            "2          Londonberry Chapel  Bonnie Doon Stake          Unassigned   \n",
            "3       Gateway Stake Centre       Gateway Stake                  50   \n",
            "4    Bonnie Doon Stake Centre  Bonnie Doon Stake                  98   \n",
            "..                        ...                ...                 ...   \n",
            "443    Riverbend Stake Centre    Riverbend Stake        Greenfield 7   \n",
            "444    Riverbend Stake Centre    Riverbend Stake                  70   \n",
            "445  Bonnie Doon Stake Centre  Bonnie Doon Stake  King Edward Park 4   \n",
            "446    Riverbend Stake Centre    Riverbend Stake        Greenfield 3   \n",
            "447    Riverbend Stake Centre    Riverbend Stake                  56   \n",
            "\n",
            "    Time Spent Collecting Donations  \\\n",
            "0                    0 - 30 Minutes   \n",
            "1                    0 - 30 Minutes   \n",
            "2                    0 - 30 Minutes   \n",
            "3                    0 - 30 Minutes   \n",
            "4                    0 - 30 Minutes   \n",
            "..                              ...   \n",
            "443                 30 - 60 Minutes   \n",
            "444                  0 - 30 Minutes   \n",
            "445                 30 - 60 Minutes   \n",
            "446              1 Hour - 1.5 Hours   \n",
            "447              1 Hour - 1.5 Hours   \n",
            "\n",
            "     # of Adult Volunteers who participated in this route  \\\n",
            "0                                                    7      \n",
            "1                                                    0      \n",
            "2                                                    1      \n",
            "3                                                    2      \n",
            "4                                                    2      \n",
            "..                                                 ...      \n",
            "443                                                  2      \n",
            "444                                                  2      \n",
            "445                                                  2      \n",
            "446                                                  1      \n",
            "447                                                  3      \n",
            "\n",
            "     # of Youth Volunteers who participated in this route\\n  \\\n",
            "0                                                    7        \n",
            "1                                                    0        \n",
            "2                                                    0        \n",
            "3                                                    2        \n",
            "4                                                    2        \n",
            "..                                                 ...        \n",
            "443                                                  0        \n",
            "444                                                  1        \n",
            "445                                                  0        \n",
            "446                                                  0        \n",
            "447                                                  0        \n",
            "\n",
            "     # of Doors in Route  # of Donation Bags Collected  \\\n",
            "0                     78                           599   \n",
            "1                      0                             0   \n",
            "2                      1                             1   \n",
            "3                     20                            20   \n",
            "4                     20                            15   \n",
            "..                   ...                           ...   \n",
            "443                  211                            47   \n",
            "444                   58                             6   \n",
            "445                  150                            23   \n",
            "446                  140                            33   \n",
            "447                  121                            45   \n",
            "\n",
            "     total number of volunteers   New Route Number/Name  \n",
            "0                             14      Riverbend Stake 1  \n",
            "1                              0        Gateway Stake 1  \n",
            "2                              1    Bonnie Doon Stake 1  \n",
            "3                              4        Gateway Stake 2  \n",
            "4                              4    Bonnie Doon Stake 2  \n",
            "..                           ...                    ...  \n",
            "443                            2    Riverbend Stake 109  \n",
            "444                            3    Riverbend Stake 110  \n",
            "445                            2  Bonnie Doon Stake 119  \n",
            "446                            1    Riverbend Stake 111  \n",
            "447                            3    Riverbend Stake 112  \n",
            "\n",
            "[448 rows x 10 columns]\n"
          ]
        }
      ]
    },
    {
      "cell_type": "code",
      "source": [
        "# Group by 'Stake' and get the size of each group (number of routes)\n",
        "route_counts = df.groupby('Stake')['Route Number/Name'].nunique()\n",
        "\n",
        "# Create a new column 'TotalRoutes' and assign the route counts using map\n",
        "df['TotalRoutes'] = df['Stake'].map(route_counts)\n",
        "\n",
        "# Print the updated DataFrame (optional) to see the new column\n",
        "print(df[['Stake', 'TotalRoutes']].head())  # Display the first few rows with stake and total routes"
      ],
      "metadata": {
        "colab": {
          "base_uri": "https://localhost:8080/"
        },
        "id": "jGUlrfPMOr5u",
        "outputId": "3e780478-c961-4bb0-bb88-ceed933e6ae0"
      },
      "execution_count": 11,
      "outputs": [
        {
          "output_type": "stream",
          "name": "stdout",
          "text": [
            "               Stake  TotalRoutes\n",
            "0    Riverbend Stake           94\n",
            "1      Gateway Stake           82\n",
            "2  Bonnie Doon Stake          104\n",
            "3      Gateway Stake           82\n",
            "4  Bonnie Doon Stake          104\n"
          ]
        }
      ]
    },
    {
      "cell_type": "code",
      "source": [
        "# Group by 'Route Number/Name' and calculate the average '# of Doors in Route' for each group\n",
        "average_doors_per_route = df.groupby('New Route Number/Name')['# of Doors in Route'].mean()\n",
        "\n",
        "# Create a new column 'AvgDoorsPerRoute' and assign the average doors for each route using map\n",
        "df['AvgDoorsPerRoute'] = df['New Route Number/Name'].map(average_doors_per_route)\n",
        "\n",
        "# Print the updated DataFrame to see the new column\n",
        "print(df[['New Route Number/Name', 'AvgDoorsPerRoute']].head())  # Display the first few rows with route and average doors"
      ],
      "metadata": {
        "colab": {
          "base_uri": "https://localhost:8080/"
        },
        "id": "28nKs8nlPNwA",
        "outputId": "5d16478f-cd20-4b31-b33e-e0fdfdc68382"
      },
      "execution_count": 12,
      "outputs": [
        {
          "output_type": "stream",
          "name": "stdout",
          "text": [
            "  New Route Number/Name  AvgDoorsPerRoute\n",
            "0     Riverbend Stake 1              78.0\n",
            "1       Gateway Stake 1               0.0\n",
            "2   Bonnie Doon Stake 1               1.0\n",
            "3       Gateway Stake 2              20.0\n",
            "4   Bonnie Doon Stake 2              20.0\n"
          ]
        }
      ]
    },
    {
      "cell_type": "code",
      "source": [
        "# # Define a dictionary to map time ranges to their average values in minutes\n",
        "# time_range_mapping = {\n",
        "#     '0-30': 15,  # Average of 0 and 30\n",
        "#     '30-60': 45,  # Average of 30 and 60\n",
        "# }\n",
        "\n",
        "# # Replace time ranges with their average values in the 'Time Spent Collecting Donations' column\n",
        "# df['Time Spent Collecting Donations'] = df['Time Spent Collecting Donations'].map(time_range_mapping)"
      ],
      "metadata": {
        "id": "qE-qqfbcPrOC"
      },
      "execution_count": 12,
      "outputs": []
    },
    {
      "cell_type": "code",
      "source": [
        "def convert_time_to_minutes(time_str):\n",
        "    \"\"\"Converts time string to minutes.\n",
        "\n",
        "    Args:\n",
        "        time_str: The time string to convert, e.g., '0 - 30 Minutes', '1 Hour', etc.\n",
        "\n",
        "    Returns:\n",
        "        The time in minutes as an integer.\n",
        "    \"\"\"\n",
        "    if '-' in time_str:  # Handle ranges like '0 - 30 Minutes'\n",
        "        lower, upper = time_str.split('-')\n",
        "        lower = int(lower.strip().split()[0])  # Extract lower bound\n",
        "        # Extract upper bound, handling potential floats\n",
        "        upper_str = upper.strip().split()[0]\n",
        "        upper = int(float(upper_str)) if '.' in upper_str else int(upper_str)\n",
        "        # Returning the average of the range\n",
        "        return (lower + upper) // 2\n",
        "    elif 'Hour' in time_str:  # Handle '1 Hour', '2 Hours', etc.\n",
        "        # Extract only digits from the beginning of the string\n",
        "        hours_str = ''.join(filter(str.isdigit, time_str.strip().split()[0]))\n",
        "        hours = int(hours_str) if hours_str else 0  # Handle empty string case\n",
        "        return hours * 60\n",
        "    elif 'Minutes' in time_str: # Handle '30 Minutes', '45 Minutes', etc.\n",
        "        minutes = int(time_str.strip().split()[0])\n",
        "        return minutes\n",
        "    else:\n",
        "        # Handle unexpected formats (you can customize this)\n",
        "        return None  # Or raise an exception, etc.\n",
        "\n",
        "# Apply the function to the 'Time Spent Collecting Donations' column\n",
        "df['Time Spent Collecting Donations'] = df['Time Spent Collecting Donations'].apply(convert_time_to_minutes)\n",
        "\n",
        "# Convert the column to int64 after applying the function\n",
        "df['Time Spent Collecting Donations'] = df['Time Spent Collecting Donations'].astype('Int64') # Int64 can handle NaN values"
      ],
      "metadata": {
        "id": "I9upwIrrSKBv"
      },
      "execution_count": 15,
      "outputs": []
    },
    {
      "cell_type": "code",
      "source": [
        "print(df['Time Spent Collecting Donations'].dtype)"
      ],
      "metadata": {
        "colab": {
          "base_uri": "https://localhost:8080/"
        },
        "id": "TH0tBlP1RcQs",
        "outputId": "116d5e58-94bd-4961-d307-56f333ece995"
      },
      "execution_count": 16,
      "outputs": [
        {
          "output_type": "stream",
          "name": "stdout",
          "text": [
            "Int64\n"
          ]
        }
      ]
    },
    {
      "cell_type": "code",
      "source": [
        "average_time_per_door = df['Time Spent Collecting Donations'].sum() / df['# of Doors in Route'].sum()\n",
        "\n",
        "print(f\"Overall average time per door: {average_time_per_door:.2f} minutes\")"
      ],
      "metadata": {
        "colab": {
          "base_uri": "https://localhost:8080/"
        },
        "id": "9DZe1ajFQ7rR",
        "outputId": "1b9ace36-b122-4dd8-bc3e-997f2a48dfc2"
      },
      "execution_count": 18,
      "outputs": [
        {
          "output_type": "stream",
          "name": "stdout",
          "text": [
            "Overall average time per door: 0.18 minutes\n"
          ]
        }
      ]
    },
    {
      "cell_type": "code",
      "source": [
        "# Group by 'New Route Number/Name' and calculate the total donation volume for each route\n",
        "route_donation_volume = df.groupby('New Route Number/Name')['# of Donation Bags Collected'].sum()\n",
        "\n",
        "# Create a new column 'TotalDonationVolume' and assign the total donation volume for each route using map\n",
        "df['TotalDonationVolume'] = df['New Route Number/Name'].map(route_donation_volume)"
      ],
      "metadata": {
        "id": "TM4b93D3Uc4Q"
      },
      "execution_count": 23,
      "outputs": []
    },
    {
      "cell_type": "code",
      "source": [
        "# Group by 'New Route Number/Name' and calculate the total number of volunteers for each route\n",
        "route_volunteer_count = df.groupby('New Route Number/Name')['total number of volunteers '].sum()\n",
        "\n",
        "# Create a new column 'TotalVolunteers' and assign the total volunteers for each route using map\n",
        "df['TotalVolunteers'] = df['New Route Number/Name'].map(route_volunteer_count)"
      ],
      "metadata": {
        "id": "BWcJci59UyRE"
      },
      "execution_count": 25,
      "outputs": []
    },
    {
      "cell_type": "code",
      "source": [
        "df.to_csv('data_2024_donation_processed_2.csv', index=False)"
      ],
      "metadata": {
        "id": "1eWRT_PfS7Fg"
      },
      "execution_count": 27,
      "outputs": []
    },
    {
      "cell_type": "code",
      "source": [
        "df['New Route Number/Name'].head(50)\n"
      ],
      "metadata": {
        "colab": {
          "base_uri": "https://localhost:8080/",
          "height": 1000
        },
        "id": "ikZKYfqMLp7a",
        "outputId": "eb5fb9bc-08e1-428c-a99f-70a4ae924617"
      },
      "execution_count": 19,
      "outputs": [
        {
          "output_type": "execute_result",
          "data": {
            "text/plain": [
              "0          Riverbend Stake 1\n",
              "1            Gateway Stake 1\n",
              "2        Bonnie Doon Stake 1\n",
              "3            Gateway Stake 2\n",
              "4        Bonnie Doon Stake 2\n",
              "5            Gateway Stake 3\n",
              "6            Gateway Stake 4\n",
              "7        Bonnie Doon Stake 3\n",
              "8            Gateway Stake 5\n",
              "9        Bonnie Doon Stake 4\n",
              "10         Riverbend Stake 2\n",
              "11         Riverbend Stake 3\n",
              "12           Gateway Stake 6\n",
              "13       Bonnie Doon Stake 5\n",
              "14       Bonnie Doon Stake 6\n",
              "15       Bonnie Doon Stake 7\n",
              "16           Gateway Stake 7\n",
              "17           Gateway Stake 8\n",
              "18       Bonnie Doon Stake 8\n",
              "19           Gateway Stake 9\n",
              "20          Gateway Stake 10\n",
              "21         Riverbend Stake 4\n",
              "22    Edmonton North Stake 1\n",
              "23          Gateway Stake 11\n",
              "24               YSA Stake 1\n",
              "25               YSA Stake 2\n",
              "26         Riverbend Stake 5\n",
              "27       Bonnie Doon Stake 9\n",
              "28               YSA Stake 3\n",
              "29      Bonnie Doon Stake 10\n",
              "30         Riverbend Stake 6\n",
              "31         Riverbend Stake 7\n",
              "32      Bonnie Doon Stake 11\n",
              "33          Gateway Stake 12\n",
              "34    Edmonton North Stake 2\n",
              "35         Riverbend Stake 8\n",
              "36      Bonnie Doon Stake 12\n",
              "37      Bonnie Doon Stake 13\n",
              "38      Bonnie Doon Stake 14\n",
              "39          Gateway Stake 13\n",
              "40      Bonnie Doon Stake 15\n",
              "41          Gateway Stake 14\n",
              "42      Bonnie Doon Stake 16\n",
              "43      Bonnie Doon Stake 17\n",
              "44          Gateway Stake 15\n",
              "45      Bonnie Doon Stake 18\n",
              "46      Bonnie Doon Stake 19\n",
              "47          Gateway Stake 16\n",
              "48          Gateway Stake 17\n",
              "49         Riverbend Stake 9\n",
              "Name: New Route Number/Name, dtype: object"
            ],
            "text/html": [
              "<div>\n",
              "<style scoped>\n",
              "    .dataframe tbody tr th:only-of-type {\n",
              "        vertical-align: middle;\n",
              "    }\n",
              "\n",
              "    .dataframe tbody tr th {\n",
              "        vertical-align: top;\n",
              "    }\n",
              "\n",
              "    .dataframe thead th {\n",
              "        text-align: right;\n",
              "    }\n",
              "</style>\n",
              "<table border=\"1\" class=\"dataframe\">\n",
              "  <thead>\n",
              "    <tr style=\"text-align: right;\">\n",
              "      <th></th>\n",
              "      <th>New Route Number/Name</th>\n",
              "    </tr>\n",
              "  </thead>\n",
              "  <tbody>\n",
              "    <tr>\n",
              "      <th>0</th>\n",
              "      <td>Riverbend Stake 1</td>\n",
              "    </tr>\n",
              "    <tr>\n",
              "      <th>1</th>\n",
              "      <td>Gateway Stake 1</td>\n",
              "    </tr>\n",
              "    <tr>\n",
              "      <th>2</th>\n",
              "      <td>Bonnie Doon Stake 1</td>\n",
              "    </tr>\n",
              "    <tr>\n",
              "      <th>3</th>\n",
              "      <td>Gateway Stake 2</td>\n",
              "    </tr>\n",
              "    <tr>\n",
              "      <th>4</th>\n",
              "      <td>Bonnie Doon Stake 2</td>\n",
              "    </tr>\n",
              "    <tr>\n",
              "      <th>5</th>\n",
              "      <td>Gateway Stake 3</td>\n",
              "    </tr>\n",
              "    <tr>\n",
              "      <th>6</th>\n",
              "      <td>Gateway Stake 4</td>\n",
              "    </tr>\n",
              "    <tr>\n",
              "      <th>7</th>\n",
              "      <td>Bonnie Doon Stake 3</td>\n",
              "    </tr>\n",
              "    <tr>\n",
              "      <th>8</th>\n",
              "      <td>Gateway Stake 5</td>\n",
              "    </tr>\n",
              "    <tr>\n",
              "      <th>9</th>\n",
              "      <td>Bonnie Doon Stake 4</td>\n",
              "    </tr>\n",
              "    <tr>\n",
              "      <th>10</th>\n",
              "      <td>Riverbend Stake 2</td>\n",
              "    </tr>\n",
              "    <tr>\n",
              "      <th>11</th>\n",
              "      <td>Riverbend Stake 3</td>\n",
              "    </tr>\n",
              "    <tr>\n",
              "      <th>12</th>\n",
              "      <td>Gateway Stake 6</td>\n",
              "    </tr>\n",
              "    <tr>\n",
              "      <th>13</th>\n",
              "      <td>Bonnie Doon Stake 5</td>\n",
              "    </tr>\n",
              "    <tr>\n",
              "      <th>14</th>\n",
              "      <td>Bonnie Doon Stake 6</td>\n",
              "    </tr>\n",
              "    <tr>\n",
              "      <th>15</th>\n",
              "      <td>Bonnie Doon Stake 7</td>\n",
              "    </tr>\n",
              "    <tr>\n",
              "      <th>16</th>\n",
              "      <td>Gateway Stake 7</td>\n",
              "    </tr>\n",
              "    <tr>\n",
              "      <th>17</th>\n",
              "      <td>Gateway Stake 8</td>\n",
              "    </tr>\n",
              "    <tr>\n",
              "      <th>18</th>\n",
              "      <td>Bonnie Doon Stake 8</td>\n",
              "    </tr>\n",
              "    <tr>\n",
              "      <th>19</th>\n",
              "      <td>Gateway Stake 9</td>\n",
              "    </tr>\n",
              "    <tr>\n",
              "      <th>20</th>\n",
              "      <td>Gateway Stake 10</td>\n",
              "    </tr>\n",
              "    <tr>\n",
              "      <th>21</th>\n",
              "      <td>Riverbend Stake 4</td>\n",
              "    </tr>\n",
              "    <tr>\n",
              "      <th>22</th>\n",
              "      <td>Edmonton North Stake 1</td>\n",
              "    </tr>\n",
              "    <tr>\n",
              "      <th>23</th>\n",
              "      <td>Gateway Stake 11</td>\n",
              "    </tr>\n",
              "    <tr>\n",
              "      <th>24</th>\n",
              "      <td>YSA Stake 1</td>\n",
              "    </tr>\n",
              "    <tr>\n",
              "      <th>25</th>\n",
              "      <td>YSA Stake 2</td>\n",
              "    </tr>\n",
              "    <tr>\n",
              "      <th>26</th>\n",
              "      <td>Riverbend Stake 5</td>\n",
              "    </tr>\n",
              "    <tr>\n",
              "      <th>27</th>\n",
              "      <td>Bonnie Doon Stake 9</td>\n",
              "    </tr>\n",
              "    <tr>\n",
              "      <th>28</th>\n",
              "      <td>YSA Stake 3</td>\n",
              "    </tr>\n",
              "    <tr>\n",
              "      <th>29</th>\n",
              "      <td>Bonnie Doon Stake 10</td>\n",
              "    </tr>\n",
              "    <tr>\n",
              "      <th>30</th>\n",
              "      <td>Riverbend Stake 6</td>\n",
              "    </tr>\n",
              "    <tr>\n",
              "      <th>31</th>\n",
              "      <td>Riverbend Stake 7</td>\n",
              "    </tr>\n",
              "    <tr>\n",
              "      <th>32</th>\n",
              "      <td>Bonnie Doon Stake 11</td>\n",
              "    </tr>\n",
              "    <tr>\n",
              "      <th>33</th>\n",
              "      <td>Gateway Stake 12</td>\n",
              "    </tr>\n",
              "    <tr>\n",
              "      <th>34</th>\n",
              "      <td>Edmonton North Stake 2</td>\n",
              "    </tr>\n",
              "    <tr>\n",
              "      <th>35</th>\n",
              "      <td>Riverbend Stake 8</td>\n",
              "    </tr>\n",
              "    <tr>\n",
              "      <th>36</th>\n",
              "      <td>Bonnie Doon Stake 12</td>\n",
              "    </tr>\n",
              "    <tr>\n",
              "      <th>37</th>\n",
              "      <td>Bonnie Doon Stake 13</td>\n",
              "    </tr>\n",
              "    <tr>\n",
              "      <th>38</th>\n",
              "      <td>Bonnie Doon Stake 14</td>\n",
              "    </tr>\n",
              "    <tr>\n",
              "      <th>39</th>\n",
              "      <td>Gateway Stake 13</td>\n",
              "    </tr>\n",
              "    <tr>\n",
              "      <th>40</th>\n",
              "      <td>Bonnie Doon Stake 15</td>\n",
              "    </tr>\n",
              "    <tr>\n",
              "      <th>41</th>\n",
              "      <td>Gateway Stake 14</td>\n",
              "    </tr>\n",
              "    <tr>\n",
              "      <th>42</th>\n",
              "      <td>Bonnie Doon Stake 16</td>\n",
              "    </tr>\n",
              "    <tr>\n",
              "      <th>43</th>\n",
              "      <td>Bonnie Doon Stake 17</td>\n",
              "    </tr>\n",
              "    <tr>\n",
              "      <th>44</th>\n",
              "      <td>Gateway Stake 15</td>\n",
              "    </tr>\n",
              "    <tr>\n",
              "      <th>45</th>\n",
              "      <td>Bonnie Doon Stake 18</td>\n",
              "    </tr>\n",
              "    <tr>\n",
              "      <th>46</th>\n",
              "      <td>Bonnie Doon Stake 19</td>\n",
              "    </tr>\n",
              "    <tr>\n",
              "      <th>47</th>\n",
              "      <td>Gateway Stake 16</td>\n",
              "    </tr>\n",
              "    <tr>\n",
              "      <th>48</th>\n",
              "      <td>Gateway Stake 17</td>\n",
              "    </tr>\n",
              "    <tr>\n",
              "      <th>49</th>\n",
              "      <td>Riverbend Stake 9</td>\n",
              "    </tr>\n",
              "  </tbody>\n",
              "</table>\n",
              "</div><br><label><b>dtype:</b> object</label>"
            ]
          },
          "metadata": {},
          "execution_count": 19
        }
      ]
    },
    {
      "source": [
        "# Check if there are any rows with 'YSA' in the 'Stake' column:\n",
        "ysa_count = df[df['Stake'] == 'YSA Stake'].shape[0]\n",
        "print(f\"Number of rows with 'YSA' stake: {ysa_count}\")\n",
        "\n",
        "# If ysa_count is 0, then there are no rows with 'YSA' in the 'Stake' column.\n",
        "if ysa_count == 0:\n",
        "    print(\"There are no rows with 'YSA' in the 'Stake' column. \"\n",
        "          \"Please check the values in your DataFrame.\")\n",
        "else:\n",
        "    # Filter the DataFrame to include only rows where the stake is \"YSA\"\n",
        "    ysa_df = df[df['Stake'] == 'YSA']\n",
        "\n",
        "    # Get all route numbers for the YSA stake\n",
        "    ysa_route_numbers = ysa_df['New Route Number/Name']\n",
        "\n",
        "    # Print the route numbers\n",
        "    print(ysa_route_numbers)"
      ],
      "cell_type": "code",
      "metadata": {
        "colab": {
          "base_uri": "https://localhost:8080/"
        },
        "id": "X7QTxRr5M9QA",
        "outputId": "aa94b247-4e34-49b3-b6c3-b6b06ecdc320"
      },
      "execution_count": 15,
      "outputs": [
        {
          "output_type": "stream",
          "name": "stdout",
          "text": [
            "Number of rows with 'YSA' stake: 4\n",
            "Series([], Name: New Route Number/Name, dtype: object)\n"
          ]
        }
      ]
    },
    {
      "cell_type": "code",
      "source": [
        "df.info()"
      ],
      "metadata": {
        "colab": {
          "base_uri": "https://localhost:8080/"
        },
        "id": "2W7aADcqNTgU",
        "outputId": "efdf37f6-1e42-4a86-a343-1acfeac71fe0"
      },
      "execution_count": 16,
      "outputs": [
        {
          "output_type": "stream",
          "name": "stdout",
          "text": [
            "<class 'pandas.core.frame.DataFrame'>\n",
            "RangeIndex: 448 entries, 0 to 447\n",
            "Data columns (total 12 columns):\n",
            " #   Column                                                 Non-Null Count  Dtype  \n",
            "---  ------                                                 --------------  -----  \n",
            " 0   Drop Off Location                                      448 non-null    object \n",
            " 1   Stake                                                  448 non-null    object \n",
            " 2   Route Number/Name                                      448 non-null    object \n",
            " 3   Time Spent Collecting Donations                        0 non-null      float64\n",
            " 4   # of Adult Volunteers who participated in this route   448 non-null    int64  \n",
            " 5   # of Youth Volunteers who participated in this route\n",
            "  448 non-null    int64  \n",
            " 6   # of Doors in Route                                    448 non-null    int64  \n",
            " 7   # of Donation Bags Collected                           448 non-null    int64  \n",
            " 8   total number of volunteers                             448 non-null    int64  \n",
            " 9   New Route Number/Name                                  448 non-null    object \n",
            " 10  TotalRoutes                                            448 non-null    int64  \n",
            " 11  AvgDoorsPerRoute                                       448 non-null    float64\n",
            "dtypes: float64(2), int64(6), object(4)\n",
            "memory usage: 42.1+ KB\n"
          ]
        }
      ]
    },
    {
      "cell_type": "code",
      "source": [
        "# Group by 'Route Number/Name' and calculate the average '# of Doors in Route' for each group\n",
        "average_doors_per_route = df.groupby('New Route Number/Name')['# of Doors in Route'].mean()\n",
        "\n",
        "# Create a new column 'AvgDoorsPerRoute' and assign the average doors for each route using map\n",
        "df['AvgDoorsPerRoute'] = df['New Route Number/Name'].map(average_doors_per_route)\n",
        "\n",
        "# Print the updated DataFrame to see the new column\n",
        "print(df[['New Route Number/Name', 'AvgDoorsPerRoute']].head())  # Display the first few rows with route and average doors"
      ],
      "metadata": {
        "colab": {
          "base_uri": "https://localhost:8080/"
        },
        "id": "gVgVxs7rSKem",
        "outputId": "ad2694c2-3dec-4ecb-891e-5f890ce6a1ce"
      },
      "execution_count": 13,
      "outputs": [
        {
          "output_type": "stream",
          "name": "stdout",
          "text": [
            "  New Route Number/Name  AvgDoorsPerRoute\n",
            "0     Riverbend Stake 1              78.0\n",
            "1       Gateway Stake 1               0.0\n",
            "2   Bonnie Doon Stake 1               1.0\n",
            "3       Gateway Stake 2              20.0\n",
            "4   Bonnie Doon Stake 2              20.0\n"
          ]
        }
      ]
    },
    {
      "source": [
        "# import pandas as pd\n",
        "\n",
        "# # Convert the columns to numeric, handling potential errors\n",
        "# # df['Time Spent Collecting Donations'] = pd.to_numeric(df['Time Spent Collecting Donations'], errors='coerce')\n",
        "# df['# of Doors in Route'] = pd.to_numeric(df['# of Doors in Route'], errors='coerce')\n",
        "\n",
        "# # Clean the 'Time Spent Collecting Donations' column before converting to timedelta\n",
        "# # This will remove any trailing or embedded negative signs\n",
        "# df['Time Spent Collecting Donations'] = df['Time Spent Collecting Donations'].str.replace(r'(?!^)-', '', regex=True)\n",
        "\n",
        "# # Now convert to timedelta\n",
        "# df['Time Spent Collecting Donations'] = pd.to_timedelta(df['Time Spent Collecting Donations'], errors='coerce')\n",
        "# df['Time Spent Collecting Donations'] = (df['Time Spent Collecting Donations'].dt.total_seconds() / 60).astype(int)\n",
        "\n",
        "\n",
        "# # Remove rows with missing values in the relevant columns\n",
        "# # df = df.dropna(subset=['Time Spent Collecting Donations', '# of Doors in Route'])\n",
        "\n",
        "# # Calculate the overall average time per door\n",
        "# average_time_per_door = df['Time Spent Collecting Donations'].sum() / df['# of Doors in Route'].sum()\n",
        "\n",
        "# # Create a new column 'AvgTimePerRouteBasedOnDoors'\n",
        "# df['AvgTimePerRouteBasedOnDoors'] = df['AvgDoorsPerRoute'] * average_time_per_door"
      ],
      "cell_type": "code",
      "metadata": {
        "id": "pc8QLN52UN_z"
      },
      "execution_count": 15,
      "outputs": []
    },
    {
      "cell_type": "code",
      "source": [
        "df.to_csv('data_2024_donation_processed_1.csv', index=False)"
      ],
      "metadata": {
        "id": "VNxp2gdDx4YJ"
      },
      "execution_count": 14,
      "outputs": []
    }
  ]
}